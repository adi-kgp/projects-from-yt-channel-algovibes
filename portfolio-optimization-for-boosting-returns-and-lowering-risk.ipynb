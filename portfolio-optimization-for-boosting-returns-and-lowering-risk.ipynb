{
 "cells": [
  {
   "cell_type": "markdown",
   "id": "1c826425-71f1-4a1d-9568-bee6d77c5c8c",
   "metadata": {},
   "source": [
    "## Portfolio Optimization: Boosting Returns and Lowering Risk"
   ]
  },
  {
   "cell_type": "code",
   "execution_count": 1,
   "id": "01c5c52c-7542-427e-bae1-db0def5a7285",
   "metadata": {},
   "outputs": [],
   "source": [
    "import yfinance as yf\n",
    "import pandas as pd\n",
    "import numpy as np\n",
    "import matplotlib.pyplot as plt"
   ]
  },
  {
   "cell_type": "code",
   "execution_count": 2,
   "id": "ea1f94c0-ae04-47ab-8452-db0b3949c2bd",
   "metadata": {},
   "outputs": [],
   "source": [
    "portfolio = {\n",
    "    'AAPL': 10,\n",
    "    'TSLA': 5,\n",
    "    'MSFT': 15,\n",
    "    'GOOGL': 7\n",
    "}\n",
    "\n",
    "start_date = '2023-01-01'\n",
    "end_date = '2024-01-01'"
   ]
  },
  {
   "cell_type": "code",
   "execution_count": 3,
   "id": "59395fb2-8666-4bad-bf0c-9a13129f2b3d",
   "metadata": {},
   "outputs": [
    {
     "name": "stderr",
     "output_type": "stream",
     "text": [
      "[*********************100%***********************]  4 of 4 completed\n"
     ]
    },
    {
     "data": {
      "text/html": [
       "<div>\n",
       "<style scoped>\n",
       "    .dataframe tbody tr th:only-of-type {\n",
       "        vertical-align: middle;\n",
       "    }\n",
       "\n",
       "    .dataframe tbody tr th {\n",
       "        vertical-align: top;\n",
       "    }\n",
       "\n",
       "    .dataframe thead th {\n",
       "        text-align: right;\n",
       "    }\n",
       "</style>\n",
       "<table border=\"1\" class=\"dataframe\">\n",
       "  <thead>\n",
       "    <tr style=\"text-align: right;\">\n",
       "      <th>Ticker</th>\n",
       "      <th>AAPL</th>\n",
       "      <th>GOOGL</th>\n",
       "      <th>MSFT</th>\n",
       "      <th>TSLA</th>\n",
       "    </tr>\n",
       "    <tr>\n",
       "      <th>Date</th>\n",
       "      <th></th>\n",
       "      <th></th>\n",
       "      <th></th>\n",
       "      <th></th>\n",
       "    </tr>\n",
       "  </thead>\n",
       "  <tbody>\n",
       "    <tr>\n",
       "      <th>2023-01-03 00:00:00+00:00</th>\n",
       "      <td>123.904625</td>\n",
       "      <td>88.899872</td>\n",
       "      <td>236.183517</td>\n",
       "      <td>108.099998</td>\n",
       "    </tr>\n",
       "    <tr>\n",
       "      <th>2023-01-04 00:00:00+00:00</th>\n",
       "      <td>125.182617</td>\n",
       "      <td>87.862442</td>\n",
       "      <td>225.852097</td>\n",
       "      <td>113.639999</td>\n",
       "    </tr>\n",
       "    <tr>\n",
       "      <th>2023-01-05 00:00:00+00:00</th>\n",
       "      <td>123.855095</td>\n",
       "      <td>85.987076</td>\n",
       "      <td>219.158340</td>\n",
       "      <td>110.339996</td>\n",
       "    </tr>\n",
       "    <tr>\n",
       "      <th>2023-01-06 00:00:00+00:00</th>\n",
       "      <td>128.412231</td>\n",
       "      <td>87.124260</td>\n",
       "      <td>221.741211</td>\n",
       "      <td>113.059998</td>\n",
       "    </tr>\n",
       "    <tr>\n",
       "      <th>2023-01-09 00:00:00+00:00</th>\n",
       "      <td>128.937271</td>\n",
       "      <td>87.802582</td>\n",
       "      <td>223.900162</td>\n",
       "      <td>119.769997</td>\n",
       "    </tr>\n",
       "    <tr>\n",
       "      <th>...</th>\n",
       "      <td>...</td>\n",
       "      <td>...</td>\n",
       "      <td>...</td>\n",
       "      <td>...</td>\n",
       "    </tr>\n",
       "    <tr>\n",
       "      <th>2023-12-22 00:00:00+00:00</th>\n",
       "      <td>192.868149</td>\n",
       "      <td>141.140518</td>\n",
       "      <td>372.543945</td>\n",
       "      <td>252.539993</td>\n",
       "    </tr>\n",
       "    <tr>\n",
       "      <th>2023-12-26 00:00:00+00:00</th>\n",
       "      <td>192.320206</td>\n",
       "      <td>141.170441</td>\n",
       "      <td>372.623505</td>\n",
       "      <td>256.609985</td>\n",
       "    </tr>\n",
       "    <tr>\n",
       "      <th>2023-12-27 00:00:00+00:00</th>\n",
       "      <td>192.419830</td>\n",
       "      <td>140.023270</td>\n",
       "      <td>372.036713</td>\n",
       "      <td>261.440002</td>\n",
       "    </tr>\n",
       "    <tr>\n",
       "      <th>2023-12-28 00:00:00+00:00</th>\n",
       "      <td>192.848206</td>\n",
       "      <td>139.883621</td>\n",
       "      <td>373.240112</td>\n",
       "      <td>253.179993</td>\n",
       "    </tr>\n",
       "    <tr>\n",
       "      <th>2023-12-29 00:00:00+00:00</th>\n",
       "      <td>191.802170</td>\n",
       "      <td>139.344955</td>\n",
       "      <td>373.996002</td>\n",
       "      <td>248.479996</td>\n",
       "    </tr>\n",
       "  </tbody>\n",
       "</table>\n",
       "<p>250 rows × 4 columns</p>\n",
       "</div>"
      ],
      "text/plain": [
       "Ticker                           AAPL       GOOGL        MSFT        TSLA\n",
       "Date                                                                     \n",
       "2023-01-03 00:00:00+00:00  123.904625   88.899872  236.183517  108.099998\n",
       "2023-01-04 00:00:00+00:00  125.182617   87.862442  225.852097  113.639999\n",
       "2023-01-05 00:00:00+00:00  123.855095   85.987076  219.158340  110.339996\n",
       "2023-01-06 00:00:00+00:00  128.412231   87.124260  221.741211  113.059998\n",
       "2023-01-09 00:00:00+00:00  128.937271   87.802582  223.900162  119.769997\n",
       "...                               ...         ...         ...         ...\n",
       "2023-12-22 00:00:00+00:00  192.868149  141.140518  372.543945  252.539993\n",
       "2023-12-26 00:00:00+00:00  192.320206  141.170441  372.623505  256.609985\n",
       "2023-12-27 00:00:00+00:00  192.419830  140.023270  372.036713  261.440002\n",
       "2023-12-28 00:00:00+00:00  192.848206  139.883621  373.240112  253.179993\n",
       "2023-12-29 00:00:00+00:00  191.802170  139.344955  373.996002  248.479996\n",
       "\n",
       "[250 rows x 4 columns]"
      ]
     },
     "execution_count": 3,
     "metadata": {},
     "output_type": "execute_result"
    }
   ],
   "source": [
    "data = yf.download(list(portfolio.keys()), start=start_date, end=end_date)['Adj Close']\n",
    "data"
   ]
  },
  {
   "cell_type": "code",
   "execution_count": 4,
   "id": "88655f31-0dc2-4d78-bca2-7cc90ca6a283",
   "metadata": {},
   "outputs": [],
   "source": [
    "current_returns = data.pct_change().dropna()\n",
    "\n",
    "total_value = sum(portfolio[stock] * data[stock].iloc[-1] for stock in portfolio)\n",
    "\n",
    "weights = np.array([portfolio[stock] * data[stock].iloc[-1] / total_value for stock in portfolio])\n",
    "\n",
    "portfolio_return = np.dot(weights, current_returns.mean()) * 252\n",
    "\n",
    "cov_matrix = current_returns.cov() * 252\n",
    "\n",
    "portfolio_volatility = np.sqrt(np.dot(weights.T, np.dot(cov_matrix, weights)))"
   ]
  },
  {
   "cell_type": "code",
   "execution_count": 5,
   "id": "4eefa38b-5354-4d15-b072-305c0f395785",
   "metadata": {},
   "outputs": [
    {
     "data": {
      "text/plain": [
       "(0.5391094838785194, 0.21985950132056997)"
      ]
     },
     "execution_count": 5,
     "metadata": {},
     "output_type": "execute_result"
    }
   ],
   "source": [
    "portfolio_return, portfolio_volatility"
   ]
  },
  {
   "cell_type": "code",
   "execution_count": 6,
   "id": "ed3ab53c-bb67-4f9f-bd5f-c71abf985ecd",
   "metadata": {},
   "outputs": [
    {
     "name": "stderr",
     "output_type": "stream",
     "text": [
      "[*********************100%***********************]  1 of 1 completed\n"
     ]
    },
    {
     "data": {
      "text/plain": [
       "(0.24821919834343145, 0.130914746409189)"
      ]
     },
     "execution_count": 6,
     "metadata": {},
     "output_type": "execute_result"
    }
   ],
   "source": [
    "benchmark = yf.download('SPY', start=start_date, end=end_date)['Adj Close']\n",
    "\n",
    "benchmark_returns = benchmark.pct_change().dropna()\n",
    "benchmark_return = benchmark_returns.mean()*252\n",
    "benchmark_volatility = benchmark_returns.std() * np.sqrt(252)\n",
    "\n",
    "benchmark_return, benchmark_volatility"
   ]
  },
  {
   "cell_type": "code",
   "execution_count": 7,
   "id": "bd47a256-394b-49ee-94a0-38c7970d7f5e",
   "metadata": {},
   "outputs": [
    {
     "data": {
      "image/png": "[encoded data removed]",
      "text/plain": [
       "<Figure size 640x480 with 1 Axes>"
      ]
     },
     "metadata": {},
     "output_type": "display_data"
    }
   ],
   "source": [
    "portfolio_cumulative = (current_returns + 1).cumprod().dot(weights)\n",
    "\n",
    "benchmark_cumulative = (benchmark_returns + 1).cumprod()\n",
    "\n",
    "plt.plot(portfolio_cumulative.index, portfolio_cumulative, label='Portfolio', color='blue')\n",
    "plt.plot(benchmark_cumulative.index, benchmark_cumulative, label='Benchmark (S&P500)', color='orange')\n",
    "plt.xlabel('Date')\n",
    "plt.ylabel('Cumulative Return')\n",
    "plt.title('Portfolio vs Benchmark Performance')\n",
    "plt.legend()\n",
    "plt.show()"
   ]
  },
  {
   "cell_type": "code",
   "execution_count": 9,
   "id": "3d83080d-f65d-413e-9285-b252559305c3",
   "metadata": {},
   "outputs": [
    {
     "name": "stderr",
     "output_type": "stream",
     "text": [
      "[*********************100%***********************]  3 of 3 completed\n"
     ]
    },
    {
     "data": {
      "text/plain": [
       "('NVDA', 2.5716505317672427)"
      ]
     },
     "execution_count": 9,
     "metadata": {},
     "output_type": "execute_result"
    }
   ],
   "source": [
    "potential_assets = ['NFLX', 'AMZN', 'NVDA']\n",
    "potential_data = yf.download(potential_assets, start=start_date, end=end_date)['Adj Close']\n",
    "potential_returns = potential_data.pct_change().dropna()\n",
    "\n",
    "sharpe_ratios = {}\n",
    "\n",
    "for asset in potential_assets:\n",
    "    combined_returns = pd.concat([current_returns, potential_returns[asset]], axis=1).dropna()\n",
    "    new_weights = np.append(weights * (1 - 0.1), 0.1)\n",
    "    new_expected_return = np.dot(new_weights, combined_returns.mean()) * 252\n",
    "    combined_cov_matrix = combined_returns.cov() * 252\n",
    "    new_portfolio_volatility = np.sqrt(np.dot(new_weights.T, np.dot(combined_cov_matrix, new_weights)))\n",
    "    sharpe_ratio = (new_expected_return - 0.03) / new_portfolio_volatility\n",
    "    sharpe_ratios[asset] = sharpe_ratio\n",
    "\n",
    "best_asset = max(sharpe_ratios, key=sharpe_ratios.get)\n",
    "best_asset, sharpe_ratios[best_asset]"
   ]
  },
  {
   "cell_type": "code",
   "execution_count": 10,
   "id": "7b82b935-653d-41b9-a98c-c6b8568bfdc2",
   "metadata": {},
   "outputs": [
    {
     "data": {
      "text/plain": [
       "{'NFLX': 2.3583655714683727,\n",
       " 'AMZN': 2.3475847595979693,\n",
       " 'NVDA': 2.5716505317672427}"
      ]
     },
     "execution_count": 10,
     "metadata": {},
     "output_type": "execute_result"
    }
   ],
   "source": [
    "sharpe_ratios"
   ]
  },
  {
   "cell_type": "code",
   "execution_count": null,
   "id": "96d6c10c-10b3-456a-8743-8bbbe35e274a",
   "metadata": {},
   "outputs": [],
   "source": []
  },
  {
   "cell_type": "code",
   "execution_count": null,
   "id": "bb0255f8-0caf-4242-bcbb-14e323774b5c",
   "metadata": {},
   "outputs": [],
   "source": []
  }
 ],
 "metadata": {
  "kernelspec": {
   "display_name": "Python 3 (ipykernel)",
   "language": "python",
   "name": "python3"
  },
  "language_info": {
   "codemirror_mode": {
    "name": "ipython",
    "version": 3
   },
   "file_extension": ".py",
   "mimetype": "text/x-python",
   "name": "python",
   "nbconvert_exporter": "python",
   "pygments_lexer": "ipython3",
   "version": "3.10.15"
  }
 },
 "nbformat": 4,
 "nbformat_minor": 5
}

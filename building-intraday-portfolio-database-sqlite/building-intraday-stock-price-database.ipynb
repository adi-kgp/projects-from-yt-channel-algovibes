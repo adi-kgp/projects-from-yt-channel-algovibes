{
 "cells": [
  {
   "cell_type": "markdown",
   "id": "eba74ace-250a-47fb-83e6-3dec4f32b4cc",
   "metadata": {},
   "source": [
    "## Building IntraDay Stock Price Databse with SQLite"
   ]
  },
  {
   "cell_type": "code",
   "execution_count": 1,
   "id": "7de349e3-0678-477e-aa3a-0d0678390448",
   "metadata": {},
   "outputs": [],
   "source": [
    "import pandas as pd\n",
    "import sqlite3\n",
    "import requests"
   ]
  },
  {
   "cell_type": "markdown",
   "id": "84ff6abb-f935-4677-bb01-d7fc2fab53de",
   "metadata": {},
   "source": [
    "### Downloading data from Alpha Vantage"
   ]
  },
  {
   "cell_type": "code",
   "execution_count": 2,
   "id": "404a567e-355e-438d-be52-e1075e5a7bec",
   "metadata": {},
   "outputs": [],
   "source": [
    "alpha_vantage_api_key = 'BGFBHXX2VFS45G1C'"
   ]
  },
  {
   "cell_type": "code",
   "execution_count": 21,
   "id": "78eb562c-bc9a-45c9-ae07-7c2ea0ac683e",
   "metadata": {},
   "outputs": [],
   "source": [
    "url = f\"https://www.alphavantage.co/query?function=TIME_SERIES_INTRADAY&symbol=IBM&interval=1min&apikey={alpha_vantage_api_key}&outputsize=full\""
   ]
  },
  {
   "cell_type": "code",
   "execution_count": 22,
   "id": "e90f6110-529c-4a6a-a082-a667a9d68088",
   "metadata": {},
   "outputs": [],
   "source": [
    "r = requests.get(url)"
   ]
  },
  {
   "cell_type": "code",
   "execution_count": 23,
   "id": "79a780cb-907c-41ef-97e8-37ae03dd266d",
   "metadata": {},
   "outputs": [
    {
     "data": {
      "text/plain": [
       "<Response [200]>"
      ]
     },
     "execution_count": 23,
     "metadata": {},
     "output_type": "execute_result"
    }
   ],
   "source": [
    "r"
   ]
  },
  {
   "cell_type": "code",
   "execution_count": 24,
   "id": "f2e3e805-d8f1-4116-9a59-986ea67c83f2",
   "metadata": {
    "scrolled": true
   },
   "outputs": [],
   "source": [
    "data = r.json()"
   ]
  },
  {
   "cell_type": "code",
   "execution_count": 25,
   "id": "1a400bc1-5f6a-48cf-823f-26b0de3fb7fb",
   "metadata": {
    "scrolled": true
   },
   "outputs": [
    {
     "data": {
      "text/html": [
       "<div>\n",
       "<style scoped>\n",
       "    .dataframe tbody tr th:only-of-type {\n",
       "        vertical-align: middle;\n",
       "    }\n",
       "\n",
       "    .dataframe tbody tr th {\n",
       "        vertical-align: top;\n",
       "    }\n",
       "\n",
       "    .dataframe thead th {\n",
       "        text-align: right;\n",
       "    }\n",
       "</style>\n",
       "<table border=\"1\" class=\"dataframe\">\n",
       "  <thead>\n",
       "    <tr style=\"text-align: right;\">\n",
       "      <th></th>\n",
       "      <th>1. open</th>\n",
       "      <th>2. high</th>\n",
       "      <th>3. low</th>\n",
       "      <th>4. close</th>\n",
       "      <th>5. volume</th>\n",
       "    </tr>\n",
       "  </thead>\n",
       "  <tbody>\n",
       "    <tr>\n",
       "      <th>2024-10-11 19:59:00</th>\n",
       "      <td>232.8000</td>\n",
       "      <td>232.8000</td>\n",
       "      <td>232.8000</td>\n",
       "      <td>232.8000</td>\n",
       "      <td>1</td>\n",
       "    </tr>\n",
       "    <tr>\n",
       "      <th>2024-10-11 19:51:00</th>\n",
       "      <td>232.9000</td>\n",
       "      <td>233.1700</td>\n",
       "      <td>232.9000</td>\n",
       "      <td>233.1700</td>\n",
       "      <td>11</td>\n",
       "    </tr>\n",
       "    <tr>\n",
       "      <th>2024-10-11 19:31:00</th>\n",
       "      <td>232.6000</td>\n",
       "      <td>232.6000</td>\n",
       "      <td>232.6000</td>\n",
       "      <td>232.6000</td>\n",
       "      <td>5</td>\n",
       "    </tr>\n",
       "    <tr>\n",
       "      <th>2024-10-11 19:24:00</th>\n",
       "      <td>232.8400</td>\n",
       "      <td>233.0000</td>\n",
       "      <td>232.8000</td>\n",
       "      <td>232.8000</td>\n",
       "      <td>10</td>\n",
       "    </tr>\n",
       "    <tr>\n",
       "      <th>2024-10-11 19:20:00</th>\n",
       "      <td>233.2000</td>\n",
       "      <td>233.2000</td>\n",
       "      <td>233.2000</td>\n",
       "      <td>233.2000</td>\n",
       "      <td>3</td>\n",
       "    </tr>\n",
       "    <tr>\n",
       "      <th>...</th>\n",
       "      <td>...</td>\n",
       "      <td>...</td>\n",
       "      <td>...</td>\n",
       "      <td>...</td>\n",
       "      <td>...</td>\n",
       "    </tr>\n",
       "    <tr>\n",
       "      <th>2024-09-12 04:07:00</th>\n",
       "      <td>209.8000</td>\n",
       "      <td>209.8000</td>\n",
       "      <td>209.6100</td>\n",
       "      <td>209.6100</td>\n",
       "      <td>9</td>\n",
       "    </tr>\n",
       "    <tr>\n",
       "      <th>2024-09-12 04:04:00</th>\n",
       "      <td>210.0000</td>\n",
       "      <td>210.0000</td>\n",
       "      <td>209.6100</td>\n",
       "      <td>209.6100</td>\n",
       "      <td>2</td>\n",
       "    </tr>\n",
       "    <tr>\n",
       "      <th>2024-09-12 04:02:00</th>\n",
       "      <td>210.1700</td>\n",
       "      <td>210.1700</td>\n",
       "      <td>209.5700</td>\n",
       "      <td>210.0100</td>\n",
       "      <td>14</td>\n",
       "    </tr>\n",
       "    <tr>\n",
       "      <th>2024-09-12 04:01:00</th>\n",
       "      <td>210.0000</td>\n",
       "      <td>210.0000</td>\n",
       "      <td>210.0000</td>\n",
       "      <td>210.0000</td>\n",
       "      <td>1</td>\n",
       "    </tr>\n",
       "    <tr>\n",
       "      <th>2024-09-12 04:00:00</th>\n",
       "      <td>209.9900</td>\n",
       "      <td>210.0000</td>\n",
       "      <td>209.9900</td>\n",
       "      <td>210.0000</td>\n",
       "      <td>130</td>\n",
       "    </tr>\n",
       "  </tbody>\n",
       "</table>\n",
       "<p>12712 rows × 5 columns</p>\n",
       "</div>"
      ],
      "text/plain": [
       "                      1. open   2. high    3. low  4. close 5. volume\n",
       "2024-10-11 19:59:00  232.8000  232.8000  232.8000  232.8000         1\n",
       "2024-10-11 19:51:00  232.9000  233.1700  232.9000  233.1700        11\n",
       "2024-10-11 19:31:00  232.6000  232.6000  232.6000  232.6000         5\n",
       "2024-10-11 19:24:00  232.8400  233.0000  232.8000  232.8000        10\n",
       "2024-10-11 19:20:00  233.2000  233.2000  233.2000  233.2000         3\n",
       "...                       ...       ...       ...       ...       ...\n",
       "2024-09-12 04:07:00  209.8000  209.8000  209.6100  209.6100         9\n",
       "2024-09-12 04:04:00  210.0000  210.0000  209.6100  209.6100         2\n",
       "2024-09-12 04:02:00  210.1700  210.1700  209.5700  210.0100        14\n",
       "2024-09-12 04:01:00  210.0000  210.0000  210.0000  210.0000         1\n",
       "2024-09-12 04:00:00  209.9900  210.0000  209.9900  210.0000       130\n",
       "\n",
       "[12712 rows x 5 columns]"
      ]
     },
     "execution_count": 25,
     "metadata": {},
     "output_type": "execute_result"
    }
   ],
   "source": [
    "pd.DataFrame(data.get('Time Series (1min)')).T"
   ]
  },
  {
   "cell_type": "code",
   "execution_count": 30,
   "id": "210a378e-b742-4b46-a98c-bdd57f12d6f0",
   "metadata": {},
   "outputs": [],
   "source": [
    "def fetch_intraday_data(ticker, interval='1min'):\n",
    "    url = f\"https://www.alphavantage.co/query?function=TIME_SERIES_INTRADAY&symbol={ticker}&interval={interval}&apikey={alpha_vantage_api_key}&outputsize=full\"\n",
    "    response = requests.get(url)\n",
    "    data = response.json()\n",
    "    # print(data)\n",
    "\n",
    "    time_series = data.get(f\"Time Series ({interval})\", {})\n",
    "    if not time_series:\n",
    "        print(f\"No data returned for {ticker}\")\n",
    "        return None\n",
    "\n",
    "    df = pd.DataFrame(time_series).T\n",
    "    df.index.name = 'timestamp'\n",
    "    df.columns = ['open', 'high', 'low', 'close', 'volume']\n",
    "    df = df.sort_index()\n",
    "    df.reset_index(inplace=True)\n",
    "    df['ticker'] = ticker\n",
    "    return df"
   ]
  },
  {
   "cell_type": "code",
   "execution_count": 32,
   "id": "14f912da-fe9a-4da1-a5eb-f0ae1d272b66",
   "metadata": {},
   "outputs": [],
   "source": [
    "df = fetch_intraday_data('IBM')"
   ]
  },
  {
   "cell_type": "code",
   "execution_count": 46,
   "id": "de63c79f-b4f9-45ba-b9a3-087500693ec0",
   "metadata": {},
   "outputs": [
    {
     "data": {
      "text/html": [
       "<div>\n",
       "<style scoped>\n",
       "    .dataframe tbody tr th:only-of-type {\n",
       "        vertical-align: middle;\n",
       "    }\n",
       "\n",
       "    .dataframe tbody tr th {\n",
       "        vertical-align: top;\n",
       "    }\n",
       "\n",
       "    .dataframe thead th {\n",
       "        text-align: right;\n",
       "    }\n",
       "</style>\n",
       "<table border=\"1\" class=\"dataframe\">\n",
       "  <thead>\n",
       "    <tr style=\"text-align: right;\">\n",
       "      <th></th>\n",
       "      <th>timestamp</th>\n",
       "      <th>open</th>\n",
       "      <th>high</th>\n",
       "      <th>low</th>\n",
       "      <th>close</th>\n",
       "      <th>volume</th>\n",
       "      <th>ticker</th>\n",
       "    </tr>\n",
       "  </thead>\n",
       "  <tbody>\n",
       "    <tr>\n",
       "      <th>0</th>\n",
       "      <td>2024-09-12 04:00:00</td>\n",
       "      <td>209.9900</td>\n",
       "      <td>210.0000</td>\n",
       "      <td>209.9900</td>\n",
       "      <td>210.0000</td>\n",
       "      <td>130</td>\n",
       "      <td>IBM</td>\n",
       "    </tr>\n",
       "    <tr>\n",
       "      <th>1</th>\n",
       "      <td>2024-09-12 04:01:00</td>\n",
       "      <td>210.0000</td>\n",
       "      <td>210.0000</td>\n",
       "      <td>210.0000</td>\n",
       "      <td>210.0000</td>\n",
       "      <td>1</td>\n",
       "      <td>IBM</td>\n",
       "    </tr>\n",
       "    <tr>\n",
       "      <th>2</th>\n",
       "      <td>2024-09-12 04:02:00</td>\n",
       "      <td>210.1700</td>\n",
       "      <td>210.1700</td>\n",
       "      <td>209.5700</td>\n",
       "      <td>210.0100</td>\n",
       "      <td>14</td>\n",
       "      <td>IBM</td>\n",
       "    </tr>\n",
       "    <tr>\n",
       "      <th>3</th>\n",
       "      <td>2024-09-12 04:04:00</td>\n",
       "      <td>210.0000</td>\n",
       "      <td>210.0000</td>\n",
       "      <td>209.6100</td>\n",
       "      <td>209.6100</td>\n",
       "      <td>2</td>\n",
       "      <td>IBM</td>\n",
       "    </tr>\n",
       "    <tr>\n",
       "      <th>4</th>\n",
       "      <td>2024-09-12 04:07:00</td>\n",
       "      <td>209.8000</td>\n",
       "      <td>209.8000</td>\n",
       "      <td>209.6100</td>\n",
       "      <td>209.6100</td>\n",
       "      <td>9</td>\n",
       "      <td>IBM</td>\n",
       "    </tr>\n",
       "    <tr>\n",
       "      <th>...</th>\n",
       "      <td>...</td>\n",
       "      <td>...</td>\n",
       "      <td>...</td>\n",
       "      <td>...</td>\n",
       "      <td>...</td>\n",
       "      <td>...</td>\n",
       "      <td>...</td>\n",
       "    </tr>\n",
       "    <tr>\n",
       "      <th>12707</th>\n",
       "      <td>2024-10-11 19:20:00</td>\n",
       "      <td>233.2000</td>\n",
       "      <td>233.2000</td>\n",
       "      <td>233.2000</td>\n",
       "      <td>233.2000</td>\n",
       "      <td>3</td>\n",
       "      <td>IBM</td>\n",
       "    </tr>\n",
       "    <tr>\n",
       "      <th>12708</th>\n",
       "      <td>2024-10-11 19:24:00</td>\n",
       "      <td>232.8400</td>\n",
       "      <td>233.0000</td>\n",
       "      <td>232.8000</td>\n",
       "      <td>232.8000</td>\n",
       "      <td>10</td>\n",
       "      <td>IBM</td>\n",
       "    </tr>\n",
       "    <tr>\n",
       "      <th>12709</th>\n",
       "      <td>2024-10-11 19:31:00</td>\n",
       "      <td>232.6000</td>\n",
       "      <td>232.6000</td>\n",
       "      <td>232.6000</td>\n",
       "      <td>232.6000</td>\n",
       "      <td>5</td>\n",
       "      <td>IBM</td>\n",
       "    </tr>\n",
       "    <tr>\n",
       "      <th>12710</th>\n",
       "      <td>2024-10-11 19:51:00</td>\n",
       "      <td>232.9000</td>\n",
       "      <td>233.1700</td>\n",
       "      <td>232.9000</td>\n",
       "      <td>233.1700</td>\n",
       "      <td>11</td>\n",
       "      <td>IBM</td>\n",
       "    </tr>\n",
       "    <tr>\n",
       "      <th>12711</th>\n",
       "      <td>2024-10-11 19:59:00</td>\n",
       "      <td>232.8000</td>\n",
       "      <td>232.8000</td>\n",
       "      <td>232.8000</td>\n",
       "      <td>232.8000</td>\n",
       "      <td>1</td>\n",
       "      <td>IBM</td>\n",
       "    </tr>\n",
       "  </tbody>\n",
       "</table>\n",
       "<p>12712 rows × 7 columns</p>\n",
       "</div>"
      ],
      "text/plain": [
       "                 timestamp      open      high       low     close volume  \\\n",
       "0      2024-09-12 04:00:00  209.9900  210.0000  209.9900  210.0000    130   \n",
       "1      2024-09-12 04:01:00  210.0000  210.0000  210.0000  210.0000      1   \n",
       "2      2024-09-12 04:02:00  210.1700  210.1700  209.5700  210.0100     14   \n",
       "3      2024-09-12 04:04:00  210.0000  210.0000  209.6100  209.6100      2   \n",
       "4      2024-09-12 04:07:00  209.8000  209.8000  209.6100  209.6100      9   \n",
       "...                    ...       ...       ...       ...       ...    ...   \n",
       "12707  2024-10-11 19:20:00  233.2000  233.2000  233.2000  233.2000      3   \n",
       "12708  2024-10-11 19:24:00  232.8400  233.0000  232.8000  232.8000     10   \n",
       "12709  2024-10-11 19:31:00  232.6000  232.6000  232.6000  232.6000      5   \n",
       "12710  2024-10-11 19:51:00  232.9000  233.1700  232.9000  233.1700     11   \n",
       "12711  2024-10-11 19:59:00  232.8000  232.8000  232.8000  232.8000      1   \n",
       "\n",
       "      ticker  \n",
       "0        IBM  \n",
       "1        IBM  \n",
       "2        IBM  \n",
       "3        IBM  \n",
       "4        IBM  \n",
       "...      ...  \n",
       "12707    IBM  \n",
       "12708    IBM  \n",
       "12709    IBM  \n",
       "12710    IBM  \n",
       "12711    IBM  \n",
       "\n",
       "[12712 rows x 7 columns]"
      ]
     },
     "execution_count": 46,
     "metadata": {},
     "output_type": "execute_result"
    }
   ],
   "source": []
  },
  {
   "cell_type": "code",
   "execution_count": 35,
   "id": "33576e56-fa00-4d98-a260-13bde46b51db",
   "metadata": {},
   "outputs": [
    {
     "data": {
      "text/plain": [
       "<Axes: xlabel='timestamp'>"
      ]
     },
     "execution_count": 35,
     "metadata": {},
     "output_type": "execute_result"
    },
    {
     "data": {
      "image/png": "[encoded data removed]",
      "text/plain": [
       "<Figure size 640x480 with 1 Axes>"
      ]
     },
     "metadata": {},
     "output_type": "display_data"
    }
   ],
   "source": [
    "df.set_index('timestamp').close.astype(float).plot()"
   ]
  },
  {
   "cell_type": "markdown",
   "id": "ee5cd26e-4eef-40e5-a286-696e53279152",
   "metadata": {},
   "source": [
    "### Connecting with SQLite Database"
   ]
  },
  {
   "cell_type": "code",
   "execution_count": 37,
   "id": "24d1aa46-37b8-4c89-bea8-3e414062c68e",
   "metadata": {},
   "outputs": [],
   "source": [
    "conn = sqlite3.connect('intraday_stock_prices.db')\n",
    "cursor = conn.cursor()\n",
    "\n",
    "cursor.execute('''\n",
    "    CREATE TABLE IF NOT EXISTS intraday_prices (\n",
    "    ticker TEXT,\n",
    "    timestamp TEXT,\n",
    "    open REAL,\n",
    "    high REAL,\n",
    "    low REAL,\n",
    "    close REAL,\n",
    "    volume INTEGER\n",
    "    )\n",
    "''')\n",
    "\n",
    "conn.commit()"
   ]
  },
  {
   "cell_type": "code",
   "execution_count": 38,
   "id": "c974fde2-0b41-4c2d-9dab-f9833ba95ab9",
   "metadata": {},
   "outputs": [],
   "source": [
    "def get_latest_timestamp(ticker):\n",
    "    query=\"\"\"\n",
    "        SELECT MAX(timestamp) FROM intraday_prices WHERE ticker = ?\n",
    "    \"\"\"\n",
    "    cursor.execute(query, (ticker,))\n",
    "    result = cursor.fetchone()[0]\n",
    "    return result"
   ]
  },
  {
   "cell_type": "code",
   "execution_count": 40,
   "id": "71564c65-ab99-4f3c-b4e5-3a0336d411cf",
   "metadata": {},
   "outputs": [],
   "source": [
    "get_latest_timestamp('IBM')"
   ]
  },
  {
   "cell_type": "code",
   "execution_count": 41,
   "id": "bf06d1dd-8a2a-4703-b0f7-e5b3a55f8a48",
   "metadata": {},
   "outputs": [],
   "source": [
    "def store_data_to_db(data, latest_timestamp):\n",
    "    if data is not None:\n",
    "        if latest_timestamp:\n",
    "            data = data[data['timestamp'] > latest_timestamp]\n",
    "        if not data.empty:\n",
    "            data.to_sql('intraday_prices', conn, if_exists='append', index=False)\n",
    "            print(f\"Data for {data['ticker'].iloc[0]} stored successfully.\")\n",
    "        else:\n",
    "            print(\"No new data to store.\")\n",
    "    else:\n",
    "        print(\"No data to store.\")"
   ]
  },
  {
   "cell_type": "code",
   "execution_count": 43,
   "id": "c0a093b9-8f3f-41a1-9b35-cebbd6a04fa1",
   "metadata": {},
   "outputs": [
    {
     "name": "stdout",
     "output_type": "stream",
     "text": [
      "No new data to store.\n",
      "No new data to store.\n"
     ]
    }
   ],
   "source": [
    "def main():\n",
    "    tickers = [\"MSFT\", \"IBM\"]\n",
    "    for ticker in tickers:\n",
    "        latest_timestamp = get_latest_timestamp(ticker)\n",
    "        data = fetch_intraday_data(ticker)\n",
    "        store_data_to_db(data, latest_timestamp)\n",
    "\n",
    "if __name__ == \"__main__\":\n",
    "    main()"
   ]
  },
  {
   "cell_type": "markdown",
   "id": "c119dafc-225e-4e4b-9278-b528cde4dbc1",
   "metadata": {},
   "source": [
    "### Querying the database"
   ]
  },
  {
   "cell_type": "code",
   "execution_count": 53,
   "id": "35bb0f26-a258-4cf8-89c0-91d03c2156d3",
   "metadata": {},
   "outputs": [],
   "source": [
    "def query_data(ticker, start_time, end_time):\n",
    "    query = f\"\"\"\n",
    "        SELECT * FROM intraday_prices \n",
    "        WHERE ticker = '{ticker}' AND \n",
    "        timestamp BETWEEN '{start_time}' AND '{end_time}'\n",
    "        ORDER BY timestamp desc\n",
    "    \"\"\"\n",
    "    df = pd.read_sql(query, conn)\n",
    "    return df"
   ]
  },
  {
   "cell_type": "code",
   "execution_count": 54,
   "id": "c0bbdf06-bf46-44ab-b0ee-bff557016702",
   "metadata": {},
   "outputs": [
    {
     "data": {
      "text/html": [
       "<div>\n",
       "<style scoped>\n",
       "    .dataframe tbody tr th:only-of-type {\n",
       "        vertical-align: middle;\n",
       "    }\n",
       "\n",
       "    .dataframe tbody tr th {\n",
       "        vertical-align: top;\n",
       "    }\n",
       "\n",
       "    .dataframe thead th {\n",
       "        text-align: right;\n",
       "    }\n",
       "</style>\n",
       "<table border=\"1\" class=\"dataframe\">\n",
       "  <thead>\n",
       "    <tr style=\"text-align: right;\">\n",
       "      <th></th>\n",
       "      <th>ticker</th>\n",
       "      <th>timestamp</th>\n",
       "      <th>open</th>\n",
       "      <th>high</th>\n",
       "      <th>low</th>\n",
       "      <th>close</th>\n",
       "      <th>volume</th>\n",
       "    </tr>\n",
       "  </thead>\n",
       "  <tbody>\n",
       "    <tr>\n",
       "      <th>0</th>\n",
       "      <td>IBM</td>\n",
       "      <td>2024-10-10 19:59:00</td>\n",
       "      <td>233.180</td>\n",
       "      <td>233.180</td>\n",
       "      <td>233.070</td>\n",
       "      <td>233.070</td>\n",
       "      <td>33</td>\n",
       "    </tr>\n",
       "    <tr>\n",
       "      <th>1</th>\n",
       "      <td>IBM</td>\n",
       "      <td>2024-10-10 19:57:00</td>\n",
       "      <td>233.070</td>\n",
       "      <td>233.070</td>\n",
       "      <td>233.070</td>\n",
       "      <td>233.070</td>\n",
       "      <td>5</td>\n",
       "    </tr>\n",
       "    <tr>\n",
       "      <th>2</th>\n",
       "      <td>IBM</td>\n",
       "      <td>2024-10-10 19:54:00</td>\n",
       "      <td>233.070</td>\n",
       "      <td>233.070</td>\n",
       "      <td>233.070</td>\n",
       "      <td>233.070</td>\n",
       "      <td>1</td>\n",
       "    </tr>\n",
       "    <tr>\n",
       "      <th>3</th>\n",
       "      <td>IBM</td>\n",
       "      <td>2024-10-10 19:52:00</td>\n",
       "      <td>233.070</td>\n",
       "      <td>233.070</td>\n",
       "      <td>233.070</td>\n",
       "      <td>233.070</td>\n",
       "      <td>20</td>\n",
       "    </tr>\n",
       "    <tr>\n",
       "      <th>4</th>\n",
       "      <td>IBM</td>\n",
       "      <td>2024-10-10 19:50:00</td>\n",
       "      <td>233.193</td>\n",
       "      <td>233.193</td>\n",
       "      <td>233.193</td>\n",
       "      <td>233.193</td>\n",
       "      <td>2</td>\n",
       "    </tr>\n",
       "    <tr>\n",
       "      <th>...</th>\n",
       "      <td>...</td>\n",
       "      <td>...</td>\n",
       "      <td>...</td>\n",
       "      <td>...</td>\n",
       "      <td>...</td>\n",
       "      <td>...</td>\n",
       "      <td>...</td>\n",
       "    </tr>\n",
       "    <tr>\n",
       "      <th>579</th>\n",
       "      <td>IBM</td>\n",
       "      <td>2024-10-10 04:04:00</td>\n",
       "      <td>234.000</td>\n",
       "      <td>234.170</td>\n",
       "      <td>234.000</td>\n",
       "      <td>234.000</td>\n",
       "      <td>23</td>\n",
       "    </tr>\n",
       "    <tr>\n",
       "      <th>580</th>\n",
       "      <td>IBM</td>\n",
       "      <td>2024-10-10 04:03:00</td>\n",
       "      <td>234.000</td>\n",
       "      <td>234.190</td>\n",
       "      <td>233.890</td>\n",
       "      <td>234.190</td>\n",
       "      <td>25</td>\n",
       "    </tr>\n",
       "    <tr>\n",
       "      <th>581</th>\n",
       "      <td>IBM</td>\n",
       "      <td>2024-10-10 04:02:00</td>\n",
       "      <td>234.010</td>\n",
       "      <td>234.010</td>\n",
       "      <td>234.010</td>\n",
       "      <td>234.010</td>\n",
       "      <td>3</td>\n",
       "    </tr>\n",
       "    <tr>\n",
       "      <th>582</th>\n",
       "      <td>IBM</td>\n",
       "      <td>2024-10-10 04:01:00</td>\n",
       "      <td>234.180</td>\n",
       "      <td>234.190</td>\n",
       "      <td>234.010</td>\n",
       "      <td>234.190</td>\n",
       "      <td>15</td>\n",
       "    </tr>\n",
       "    <tr>\n",
       "      <th>583</th>\n",
       "      <td>IBM</td>\n",
       "      <td>2024-10-10 04:00:00</td>\n",
       "      <td>233.800</td>\n",
       "      <td>233.880</td>\n",
       "      <td>233.800</td>\n",
       "      <td>233.880</td>\n",
       "      <td>8</td>\n",
       "    </tr>\n",
       "  </tbody>\n",
       "</table>\n",
       "<p>584 rows × 7 columns</p>\n",
       "</div>"
      ],
      "text/plain": [
       "    ticker            timestamp     open     high      low    close  volume\n",
       "0      IBM  2024-10-10 19:59:00  233.180  233.180  233.070  233.070      33\n",
       "1      IBM  2024-10-10 19:57:00  233.070  233.070  233.070  233.070       5\n",
       "2      IBM  2024-10-10 19:54:00  233.070  233.070  233.070  233.070       1\n",
       "3      IBM  2024-10-10 19:52:00  233.070  233.070  233.070  233.070      20\n",
       "4      IBM  2024-10-10 19:50:00  233.193  233.193  233.193  233.193       2\n",
       "..     ...                  ...      ...      ...      ...      ...     ...\n",
       "579    IBM  2024-10-10 04:04:00  234.000  234.170  234.000  234.000      23\n",
       "580    IBM  2024-10-10 04:03:00  234.000  234.190  233.890  234.190      25\n",
       "581    IBM  2024-10-10 04:02:00  234.010  234.010  234.010  234.010       3\n",
       "582    IBM  2024-10-10 04:01:00  234.180  234.190  234.010  234.190      15\n",
       "583    IBM  2024-10-10 04:00:00  233.800  233.880  233.800  233.880       8\n",
       "\n",
       "[584 rows x 7 columns]"
      ]
     },
     "execution_count": 54,
     "metadata": {},
     "output_type": "execute_result"
    }
   ],
   "source": [
    "df = query_data('IBM', '2024-10-10 00:00:00', '2024-10-10 19:59:00')\n",
    "df"
   ]
  },
  {
   "cell_type": "code",
   "execution_count": 56,
   "id": "be932316-6948-4472-b1e6-ead770217dfb",
   "metadata": {},
   "outputs": [
    {
     "data": {
      "text/plain": [
       "<Axes: xlabel='timestamp'>"
      ]
     },
     "execution_count": 56,
     "metadata": {},
     "output_type": "execute_result"
    },
    {
     "data": {
      "image/png": "[encoded data removed]",
      "text/plain": [
       "<Figure size 640x480 with 1 Axes>"
      ]
     },
     "metadata": {},
     "output_type": "display_data"
    }
   ],
   "source": [
    "df.set_index('timestamp').close.plot()"
   ]
  },
  {
   "cell_type": "code",
   "execution_count": 57,
   "id": "dc719045-41f5-4bd8-b6af-02022b02eafc",
   "metadata": {},
   "outputs": [],
   "source": [
    "conn.close()"
   ]
  },
  {
   "cell_type": "code",
   "execution_count": null,
   "id": "53abd79d-d587-4bc9-96b8-53443332d0f4",
   "metadata": {},
   "outputs": [],
   "source": []
  }
 ],
 "metadata": {
  "kernelspec": {
   "display_name": "Python 3 (ipykernel)",
   "language": "python",
   "name": "python3"
  },
  "language_info": {
   "codemirror_mode": {
    "name": "ipython",
    "version": 3
   },
   "file_extension": ".py",
   "mimetype": "text/x-python",
   "name": "python",
   "nbconvert_exporter": "python",
   "pygments_lexer": "ipython3",
   "version": "3.10.15"
  }
 },
 "nbformat": 4,
 "nbformat_minor": 5
}
